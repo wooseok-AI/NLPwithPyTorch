{
 "cells": [
  {
   "cell_type": "markdown",
   "metadata": {},
   "source": [
    "# Chapter 1. Introduction\n",
    "\n",
    "Practice Basic NLP method to represent data and etc\n",
    "\n",
    "## TF and TF-IDF"
   ]
  },
  {
   "cell_type": "code",
   "execution_count": 15,
   "metadata": {},
   "outputs": [
    {
     "data": {
      "text/plain": [
       "<Axes: >"
      ]
     },
     "execution_count": 15,
     "metadata": {},
     "output_type": "execute_result"
    },
    {
     "data": {
      "image/png": "[encoded data removed]",
      "text/plain": [
       "<Figure size 640x480 with 1 Axes>"
      ]
     },
     "metadata": {},
     "output_type": "display_data"
    }
   ],
   "source": [
    "# TF (Term Frequency)\n",
    "\n",
    "from sklearn.feature_extraction.text import CountVectorizer\n",
    "import seaborn as sns\n",
    "\n",
    "corpus = [\"Time flies lie an arrow.\", \"Fruit flies like a banana.\"]\n",
    "\n",
    "one_hot_vectorizer = CountVectorizer(binary = True)\n",
    "one_hot = one_hot_vectorizer.fit_transform(corpus).toarray()\n",
    "vocab = one_hot_vectorizer.get_feature_names_out() # method declaration has been changed from get_feature_names() \n",
    "sns.heatmap(one_hot, annot=True, cbar=False,\n",
    "            xticklabels=vocab, \n",
    "            yticklabels = [\"Sentence 1\", \"Sentence 2\"])\n",
    "\n"
   ]
  },
  {
   "cell_type": "code",
   "execution_count": 16,
   "metadata": {},
   "outputs": [
    {
     "data": {
      "text/plain": [
       "<Axes: >"
      ]
     },
     "execution_count": 16,
     "metadata": {},
     "output_type": "execute_result"
    },
    {
     "data": {
      "image/png": "[encoded data removed]",
      "text/plain": [
       "<Figure size 640x480 with 1 Axes>"
      ]
     },
     "metadata": {},
     "output_type": "display_data"
    }
   ],
   "source": [
    "# TF - IDF\n",
    "\n",
    "from sklearn.feature_extraction.text import TfidfVectorizer\n",
    "import seaborn as sns\n",
    "\n",
    "tfidf_vectorizer = TfidfVectorizer()\n",
    "tfidf = tfidf_vectorizer.fit_transform(corpus).toarray()\n",
    "sns.heatmap(tfidf, annot=True, cbar=False, xticklabels=vocab, yticklabels= [\"Sentence 1\", \"Sentence 2\"])"
   ]
  },
  {
   "cell_type": "markdown",
   "metadata": {},
   "source": [
    "## Basic of PyTorch\n",
    "\n",
    "### Generate Tensor"
   ]
  },
  {
   "cell_type": "code",
   "execution_count": 24,
   "metadata": {},
   "outputs": [],
   "source": [
    "# helper function to describe Tensor\n",
    "\n",
    "def describe(x):\n",
    "  print(\"Type : {}\".format(x.type()))\n",
    "  print(\"Size : {}\".format(x.shape))\n",
    "  print(\"Value \\n{}\".format(x))\n",
    "  print(\"\\n\")"
   ]
  },
  {
   "cell_type": "code",
   "execution_count": 25,
   "metadata": {},
   "outputs": [
    {
     "name": "stdout",
     "output_type": "stream",
     "text": [
      "Type : torch.FloatTensor\n",
      "Size : torch.Size([2, 3])\n",
      "Value \n",
      "tensor([[0., 0., 0.],\n",
      "        [0., 0., 0.]])\n",
      "\n",
      "\n",
      "Type : torch.FloatTensor\n",
      "Size : torch.Size([2, 3])\n",
      "Value \n",
      "tensor([[0.6073, 0.4973, 0.3629],\n",
      "        [0.1205, 0.9591, 0.6963]])\n",
      "\n",
      "\n",
      "Type : torch.FloatTensor\n",
      "Size : torch.Size([2, 3])\n",
      "Value \n",
      "tensor([[-0.4376, -0.8057,  0.4015],\n",
      "        [ 0.0627,  0.9801, -2.1447]])\n",
      "\n",
      "\n"
     ]
    }
   ],
   "source": [
    "import torch\n",
    "\n",
    "# Random init\n",
    "describe(torch.Tensor(2,3))\n",
    "\n",
    "# initialize from uniform distribution or standard normal distribution\n",
    "describe(torch.rand(2,3)) # uniform distribution\n",
    "describe(torch.randn(2,3)) # standard normal distribution"
   ]
  },
  {
   "cell_type": "code",
   "execution_count": 26,
   "metadata": {},
   "outputs": [
    {
     "name": "stdout",
     "output_type": "stream",
     "text": [
      "Type : torch.FloatTensor\n",
      "Size : torch.Size([2, 3])\n",
      "Value \n",
      "tensor([[0., 0., 0.],\n",
      "        [0., 0., 0.]])\n",
      "\n",
      "\n",
      "Type : torch.FloatTensor\n",
      "Size : torch.Size([2, 3])\n",
      "Value \n",
      "tensor([[5., 5., 5.],\n",
      "        [5., 5., 5.]])\n",
      "\n",
      "\n",
      "Type : torch.FloatTensor\n",
      "Size : torch.Size([2, 3])\n",
      "Value \n",
      "tensor([[5., 5., 5.],\n",
      "        [5., 5., 5.]])\n",
      "\n",
      "\n"
     ]
    }
   ],
   "source": [
    "# initialize with specific scalar\n",
    "\n",
    "x_zeros = torch.zeros(2,3) # fill with zero\n",
    "x_ones = torch.ones(2,3)\n",
    "x_filled = x_ones.fill_(5)\n",
    "\n",
    "describe(x_zeros)\n",
    "describe(x_ones)\n",
    "describe(x_filled)"
   ]
  },
  {
   "cell_type": "code",
   "execution_count": 27,
   "metadata": {},
   "outputs": [
    {
     "name": "stdout",
     "output_type": "stream",
     "text": [
      "Type : torch.FloatTensor\n",
      "Size : torch.Size([2, 3])\n",
      "Value \n",
      "tensor([[1., 2., 3.],\n",
      "        [4., 5., 6.]])\n",
      "\n",
      "\n",
      "Type : torch.DoubleTensor\n",
      "Size : torch.Size([2, 3])\n",
      "Value \n",
      "tensor([[0.5059, 0.6002, 0.2974],\n",
      "        [0.9462, 0.1197, 0.9513]], dtype=torch.float64)\n",
      "\n",
      "\n"
     ]
    }
   ],
   "source": [
    "# make Tensor using python list\n",
    "\n",
    "x = torch.Tensor([[1,2,3],\n",
    "                  [4,5,6]])\n",
    "describe(x)\n",
    "\n",
    "# make Tensor using numpy array\n",
    "import numpy as np\n",
    "\n",
    "npy = np.random.rand(2,3)\n",
    "x = torch.from_numpy(npy)\n",
    "describe(x)"
   ]
  },
  {
   "cell_type": "code",
   "execution_count": 28,
   "metadata": {},
   "outputs": [
    {
     "name": "stdout",
     "output_type": "stream",
     "text": [
      "Type : torch.FloatTensor\n",
      "Size : torch.Size([2, 3])\n",
      "Value \n",
      "tensor([[1., 2., 3.],\n",
      "        [4., 5., 6.]])\n",
      "\n",
      "\n",
      "Type : torch.LongTensor\n",
      "Size : torch.Size([2, 3])\n",
      "Value \n",
      "tensor([[1, 2, 3],\n",
      "        [4, 5, 6]])\n",
      "\n",
      "\n",
      "Type : torch.LongTensor\n",
      "Size : torch.Size([2, 3])\n",
      "Value \n",
      "tensor([[1, 2, 3],\n",
      "        [4, 5, 6]])\n",
      "\n",
      "\n",
      "Type : torch.FloatTensor\n",
      "Size : torch.Size([2, 3])\n",
      "Value \n",
      "tensor([[1., 2., 3.],\n",
      "        [4., 5., 6.]])\n",
      "\n",
      "\n"
     ]
    }
   ],
   "source": [
    "# using torch.Tensor, basic tensor type is torch.FloatTensor\n",
    "# Type Casting : float, long, double\n",
    "\n",
    "x = torch.FloatTensor([[1,2,3], [4,5,6]])\n",
    "describe(x)\n",
    "\n",
    "# long tensor\n",
    "x_long = x.long()\n",
    "describe(x_long)\n",
    "\n",
    "# using dtype\n",
    "x = torch.tensor([[1,2,3], [4,5,6]], dtype=torch.int64)\n",
    "describe(x)\n",
    "\n",
    "# make it flot tensfor\n",
    "x_float = x.float()\n",
    "describe(x_float)"
   ]
  },
  {
   "cell_type": "markdown",
   "metadata": {},
   "source": [
    "### Tenor Math-Operation"
   ]
  },
  {
   "cell_type": "code",
   "execution_count": 31,
   "metadata": {},
   "outputs": [
    {
     "name": "stdout",
     "output_type": "stream",
     "text": [
      "Type : torch.FloatTensor\n",
      "Size : torch.Size([2, 3])\n",
      "Value \n",
      "tensor([[ 1.0176,  0.2334, -0.1892],\n",
      "        [ 0.1365, -0.1302, -0.2565]])\n",
      "\n",
      "\n",
      "Type : torch.FloatTensor\n",
      "Size : torch.Size([2, 3])\n",
      "Value \n",
      "tensor([[ 2.0352,  0.4668, -0.3784],\n",
      "        [ 0.2730, -0.2605, -0.5131]])\n",
      "\n",
      "\n",
      "Type : torch.FloatTensor\n",
      "Size : torch.Size([2, 3])\n",
      "Value \n",
      "tensor([[ 2.0352,  0.4668, -0.3784],\n",
      "        [ 0.2730, -0.2605, -0.5131]])\n",
      "\n",
      "\n"
     ]
    }
   ],
   "source": [
    "# add\n",
    "\n",
    "x = torch.randn(2,3)\n",
    "describe(x)\n",
    "describe(torch.add(x,x))\n",
    "describe(x + x)\n"
   ]
  },
  {
   "cell_type": "code",
   "execution_count": 35,
   "metadata": {},
   "outputs": [
    {
     "name": "stdout",
     "output_type": "stream",
     "text": [
      "Type : torch.LongTensor\n",
      "Size : torch.Size([6])\n",
      "Value \n",
      "tensor([0, 1, 2, 3, 4, 5])\n",
      "\n",
      "\n",
      "Type : torch.LongTensor\n",
      "Size : torch.Size([2, 3])\n",
      "Value \n",
      "tensor([[0, 1, 2],\n",
      "        [3, 4, 5]])\n",
      "\n",
      "\n",
      "Type : torch.LongTensor\n",
      "Size : torch.Size([3])\n",
      "Value \n",
      "tensor([3, 5, 7])\n",
      "\n",
      "\n",
      "Type : torch.LongTensor\n",
      "Size : torch.Size([2])\n",
      "Value \n",
      "tensor([ 3, 12])\n",
      "\n",
      "\n",
      "Type : torch.LongTensor\n",
      "Size : torch.Size([3, 2])\n",
      "Value \n",
      "tensor([[0, 3],\n",
      "        [1, 4],\n",
      "        [2, 5]])\n",
      "\n",
      "\n"
     ]
    }
   ],
   "source": [
    "# Tensor math operation rely on Dimenson\n",
    "\n",
    "x = torch.arange(6)\n",
    "describe(x)\n",
    "\n",
    "# generate tensor sharing same data (pointer)\n",
    "x = x.view(2,3)\n",
    "describe(x)\n",
    "\n",
    "describe(torch.sum(x, dim=0))\n",
    "describe(torch.sum(x, dim=1))\n",
    "describe(torch.transpose(x, 0, 1))"
   ]
  },
  {
   "cell_type": "markdown",
   "metadata": {},
   "source": [
    "### Indexing, Slicing, Concat"
   ]
  },
  {
   "cell_type": "code",
   "execution_count": 41,
   "metadata": {},
   "outputs": [
    {
     "name": "stdout",
     "output_type": "stream",
     "text": [
      "Type : torch.LongTensor\n",
      "Size : torch.Size([2, 3])\n",
      "Value \n",
      "tensor([[0, 1, 2],\n",
      "        [3, 4, 5]])\n",
      "\n",
      "\n",
      "Type : torch.LongTensor\n",
      "Size : torch.Size([1, 2])\n",
      "Value \n",
      "tensor([[0, 1]])\n",
      "\n",
      "\n",
      "Type : torch.LongTensor\n",
      "Size : torch.Size([])\n",
      "Value \n",
      "1\n",
      "\n",
      "\n",
      "Type : torch.LongTensor\n",
      "Size : torch.Size([2, 2])\n",
      "Value \n",
      "tensor([[0, 2],\n",
      "        [3, 5]])\n",
      "\n",
      "\n",
      "Type : torch.LongTensor\n",
      "Size : torch.Size([2, 3])\n",
      "Value \n",
      "tensor([[0, 1, 2],\n",
      "        [0, 1, 2]])\n",
      "\n",
      "\n",
      "Type : torch.LongTensor\n",
      "Size : torch.Size([2])\n",
      "Value \n",
      "tensor([0, 4])\n",
      "\n",
      "\n"
     ]
    }
   ],
   "source": [
    "# indexing\n",
    "\n",
    "x = torch.arange(6).view(2,3)\n",
    "describe(x)\n",
    "describe(x[:1, :2])\n",
    "describe(x[0,1])\n",
    "\n",
    "# indices always have to be LongTensor\n",
    "indices = torch.LongTensor([0,2])\n",
    "describe(torch.index_select(x, dim=1, index=indices))\n",
    "\n",
    "indices = torch.LongTensor([0, 0])\n",
    "describe(torch.index_select(x, dim=0, index=indices))\n",
    "\n",
    "row_indicies = torch.arange(2).long()\n",
    "col_indicies = torch.LongTensor([0, 1])\n",
    "describe(x[row_indicies, col_indicies])"
   ]
  },
  {
   "cell_type": "code",
   "execution_count": 51,
   "metadata": {},
   "outputs": [
    {
     "name": "stdout",
     "output_type": "stream",
     "text": [
      "Type : torch.FloatTensor\n",
      "Size : torch.Size([2, 3])\n",
      "Value \n",
      "tensor([[0., 1., 2.],\n",
      "        [3., 4., 5.]])\n",
      "\n",
      "\n",
      "Type : torch.FloatTensor\n",
      "Size : torch.Size([4, 3])\n",
      "Value \n",
      "tensor([[0., 1., 2.],\n",
      "        [3., 4., 5.],\n",
      "        [0., 1., 2.],\n",
      "        [3., 4., 5.]])\n",
      "\n",
      "\n",
      "Type : torch.FloatTensor\n",
      "Size : torch.Size([2, 6])\n",
      "Value \n",
      "tensor([[0., 1., 2., 0., 1., 2.],\n",
      "        [3., 4., 5., 3., 4., 5.]])\n",
      "\n",
      "\n",
      "Type : torch.FloatTensor\n",
      "Size : torch.Size([2, 2, 3])\n",
      "Value \n",
      "tensor([[[0., 1., 2.],\n",
      "         [3., 4., 5.]],\n",
      "\n",
      "        [[0., 1., 2.],\n",
      "         [3., 4., 5.]]])\n",
      "\n",
      "\n"
     ]
    }
   ],
   "source": [
    "# Concat\n",
    "\n",
    "x = torch.arange(6, dtype=torch.float).view(2,3)\n",
    "describe(x)\n",
    "\n",
    "# using cat method\n",
    "describe(torch.cat([x,x], dim=0))\n",
    "describe(torch.cat([x,x], dim=1))\n",
    "\n",
    "# using stack\n",
    "describe(torch.stack([x, x]))\n"
   ]
  },
  {
   "cell_type": "code",
   "execution_count": 58,
   "metadata": {},
   "outputs": [
    {
     "name": "stdout",
     "output_type": "stream",
     "text": [
      "Type : torch.FloatTensor\n",
      "Size : torch.Size([2, 3])\n",
      "Value \n",
      "tensor([[0., 1., 2.],\n",
      "        [3., 4., 5.]])\n",
      "\n",
      "\n",
      "Type : torch.FloatTensor\n",
      "Size : torch.Size([3, 2])\n",
      "Value \n",
      "tensor([[1., 2.],\n",
      "        [1., 2.],\n",
      "        [1., 2.]])\n",
      "\n",
      "\n",
      "Type : torch.FloatTensor\n",
      "Size : torch.Size([2, 2])\n",
      "Value \n",
      "tensor([[ 3.,  6.],\n",
      "        [12., 24.]])\n",
      "\n",
      "\n"
     ]
    }
   ],
   "source": [
    "# matrix multiplication\n",
    "x1 = torch.arange(6, dtype=torch.float).view(2,3)\n",
    "describe(x1)\n",
    "\n",
    "x2 = torch.ones(3,2)\n",
    "x2[:,1] += 1\n",
    "describe(x2)\n",
    "\n",
    "describe(torch.mm(x1, x2))"
   ]
  },
  {
   "cell_type": "markdown",
   "metadata": {},
   "source": [
    "### Tensor and Calculation Graph"
   ]
  },
  {
   "cell_type": "code",
   "execution_count": 61,
   "metadata": {},
   "outputs": [
    {
     "name": "stdout",
     "output_type": "stream",
     "text": [
      "Type : torch.FloatTensor\n",
      "Size : torch.Size([2, 2])\n",
      "Value \n",
      "tensor([[1., 1.],\n",
      "        [1., 1.]], requires_grad=True)\n",
      "\n",
      "\n",
      "True\n",
      "Type : torch.FloatTensor\n",
      "Size : torch.Size([2, 2])\n",
      "Value \n",
      "tensor([[21., 21.],\n",
      "        [21., 21.]], grad_fn=<AddBackward0>)\n",
      "\n",
      "\n",
      "True\n",
      "Type : torch.FloatTensor\n",
      "Size : torch.Size([])\n",
      "Value \n",
      "21.0\n",
      "\n",
      "\n",
      "False\n"
     ]
    }
   ],
   "source": [
    "# using requires_grad to record loss function and gradient\n",
    "\n",
    "x = torch.ones(2, 2, requires_grad=True)\n",
    "describe(x)\n",
    "print(x.grad is None)\n",
    "\n",
    "y = (x + 2) * (x + 5) + 3\n",
    "describe(y)\n",
    "print(x.grad is None)\n",
    "\n",
    "z = y.mean()\n",
    "describe(z)\n",
    "#Using Backward, it calculates Back propagation\n",
    "z.backward()\n",
    "print(x.grad is None)"
   ]
  },
  {
   "cell_type": "markdown",
   "metadata": {},
   "source": [
    "## CUDA Tensor"
   ]
  },
  {
   "cell_type": "code",
   "execution_count": 67,
   "metadata": {},
   "outputs": [
    {
     "name": "stdout",
     "output_type": "stream",
     "text": [
      "mps:0\n",
      "Type : torch.mps.FloatTensor\n",
      "Size : torch.Size([3, 3])\n"
     ]
    },
    {
     "name": "stderr",
     "output_type": "stream",
     "text": [
      "/opt/homebrew/anaconda3/envs/NLP/lib/python3.8/site-packages/torch/_tensor_str.py:137: UserWarning: MPS: nonzero op is supported natively starting from macOS 13.0. Falling back on CPU. This may have performance implications. (Triggered internally at /Users/runner/work/_temp/anaconda/conda-bld/pytorch_1695391828857/work/aten/src/ATen/native/mps/operations/Indexing.mm:283.)\n",
      "  nonzero_finite_vals = torch.masked_select(\n"
     ]
    },
    {
     "name": "stdout",
     "output_type": "stream",
     "text": [
      "Value \n",
      "tensor([[0.0234, 0.1825, 0.7494],\n",
      "        [0.9650, 0.4083, 0.9163],\n",
      "        [0.0560, 0.4266, 0.7730]], device='mps:0')\n",
      "\n",
      "\n"
     ]
    }
   ],
   "source": [
    "device = torch.device('mps:0' if torch.backends.mps.is_available() else 'cpu')\n",
    "print(device)\n",
    "\n",
    "x = torch.rand(3,3).to(device)\n",
    "describe(x)"
   ]
  },
  {
   "cell_type": "code",
   "execution_count": 68,
   "metadata": {},
   "outputs": [
    {
     "ename": "RuntimeError",
     "evalue": "Expected all tensors to be on the same device, but found at least two devices, mps:0 and cpu!",
     "output_type": "error",
     "traceback": [
      "\u001b[0;31m---------------------------------------------------------------------------\u001b[0m",
      "\u001b[0;31mRuntimeError\u001b[0m                              Traceback (most recent call last)",
      "\u001b[1;32m/Users/wooseokjung/CodeWork/NLPwithPyTorch/JupyterNotebooks/Chapter1.ipynb 셀 21\u001b[0m line \u001b[0;36m2\n\u001b[1;32m      <a href='vscode-notebook-cell:/Users/wooseokjung/CodeWork/NLPwithPyTorch/JupyterNotebooks/Chapter1.ipynb#X34sZmlsZQ%3D%3D?line=0'>1</a>\u001b[0m y \u001b[39m=\u001b[39m torch\u001b[39m.\u001b[39mrand(\u001b[39m3\u001b[39m,\u001b[39m3\u001b[39m)\n\u001b[0;32m----> <a href='vscode-notebook-cell:/Users/wooseokjung/CodeWork/NLPwithPyTorch/JupyterNotebooks/Chapter1.ipynb#X34sZmlsZQ%3D%3D?line=1'>2</a>\u001b[0m x \u001b[39m+\u001b[39;49m y\n",
      "\u001b[0;31mRuntimeError\u001b[0m: Expected all tensors to be on the same device, but found at least two devices, mps:0 and cpu!"
     ]
    }
   ],
   "source": [
    "y = torch.rand(3,3)\n",
    "x + y"
   ]
  },
  {
   "cell_type": "code",
   "execution_count": 69,
   "metadata": {},
   "outputs": [
    {
     "data": {
      "text/plain": [
       "tensor([[0.7107, 0.2351, 1.2380],\n",
       "        [1.5625, 0.5897, 1.1399],\n",
       "        [0.6699, 1.2387, 1.2431]])"
      ]
     },
     "execution_count": 69,
     "metadata": {},
     "output_type": "execute_result"
    }
   ],
   "source": [
    "cpu_device = torch.device(\"cpu\")\n",
    "y = y.to(cpu_device)\n",
    "x = x.to(cpu_device)\n",
    "x + y"
   ]
  },
  {
   "cell_type": "markdown",
   "metadata": {},
   "source": [
    "## Practice\n",
    "\n",
    "1. 2D텐서를 만들고 차원 0 위치에 크기가 1인 차원을 추가하라\n",
    "2. 이전 텐서에 추가한 차원을 삭제하라\n",
    "3. 범위가 [3,7) 이고 크기가 5x3인 랜덤한 텐서를 만들어라\n",
    "4. 정규분포 (평균=0, 표준편차=1)를 사용해 텐서를 만드세요\n",
    "5. 텐서 torch.Tensor([1, 1, 1, 0, 1])애서 0이 아닌 원소의 인덱스를 추출하라\n",
    "6. 크기가 (3,1)인 랜덤한 텐서를 만들고 네벌을 복사해서 쌓으세요\n",
    "7. 2차원 행렬 두개 (a = torch.rand(3,4,5), b=torch.rand(3,5,4)의 배치 행렬 곱셈을 계산하세요)\n",
    "8. 3차원 행렬 (a = torch.rand(3,4,5))과 2차원 행렬 (b=torch.rand(5,4))의 배치행렬 곱셈을 계산하세요."
   ]
  },
  {
   "cell_type": "code",
   "execution_count": 104,
   "metadata": {},
   "outputs": [
    {
     "name": "stdout",
     "output_type": "stream",
     "text": [
      "Type : torch.FloatTensor\n",
      "Size : torch.Size([3, 3])\n",
      "Value \n",
      "tensor([[0.4099, 0.8327, 0.7973],\n",
      "        [0.8859, 0.8038, 0.1975],\n",
      "        [0.8307, 0.7639, 0.1702]])\n",
      "\n",
      "\n",
      "Type : torch.FloatTensor\n",
      "Size : torch.Size([1, 3, 3])\n",
      "Value \n",
      "tensor([[[0.4099, 0.8327, 0.7973],\n",
      "         [0.8859, 0.8038, 0.1975],\n",
      "         [0.8307, 0.7639, 0.1702]]])\n",
      "\n",
      "\n",
      "Type : torch.FloatTensor\n",
      "Size : torch.Size([3, 3])\n",
      "Value \n",
      "tensor([[0.4099, 0.8327, 0.7973],\n",
      "        [0.8859, 0.8038, 0.1975],\n",
      "        [0.8307, 0.7639, 0.1702]])\n",
      "\n",
      "\n",
      "Type : torch.FloatTensor\n",
      "Size : torch.Size([5, 3])\n",
      "Value \n",
      "tensor([[0.1447, 0.2240, 1.2910],\n",
      "        [0.4882, 3.9826, 0.5545],\n",
      "        [1.4856, 2.6221, 1.0149],\n",
      "        [3.4996, 3.8944, 3.7463],\n",
      "        [3.9136, 0.3644, 0.3682]])\n",
      "\n",
      "\n",
      "Type : torch.FloatTensor\n",
      "Size : torch.Size([3, 4, 4])\n",
      "Value \n",
      "tensor([[[1.2363, 1.3642, 1.0448, 1.0094],\n",
      "         [1.8283, 2.5456, 1.7343, 2.1502],\n",
      "         [1.4918, 2.2790, 1.2388, 1.6831],\n",
      "         [1.0580, 1.5105, 0.8825, 1.1060]],\n",
      "\n",
      "        [[1.7520, 2.1603, 1.8356, 1.9646],\n",
      "         [0.6790, 0.7765, 0.8557, 0.6621],\n",
      "         [1.2769, 1.1945, 1.2600, 1.2017],\n",
      "         [1.7289, 1.8502, 1.5257, 1.9530]],\n",
      "\n",
      "        [[1.4583, 1.5110, 0.9340, 1.4364],\n",
      "         [2.5078, 2.4696, 1.4770, 1.2490],\n",
      "         [1.4687, 1.6685, 0.8140, 0.9917],\n",
      "         [1.9290, 2.0874, 1.0041, 1.5942]]])\n",
      "\n",
      "\n",
      "Type : torch.FloatTensor\n",
      "Size : torch.Size([3, 4, 4])\n",
      "Value \n",
      "tensor([[[1.0318, 0.7520, 1.0767, 0.8234],\n",
      "         [1.5643, 1.2558, 1.5605, 1.4734],\n",
      "         [1.2160, 0.9819, 1.3293, 1.6723],\n",
      "         [1.0712, 0.7685, 1.1736, 1.0645]],\n",
      "\n",
      "        [[1.5640, 1.1027, 1.4118, 1.4099],\n",
      "         [1.4915, 0.9887, 1.1677, 1.4286],\n",
      "         [1.1852, 0.9961, 1.2337, 1.4705],\n",
      "         [1.4727, 1.2669, 1.5466, 1.5334]],\n",
      "\n",
      "        [[1.1113, 0.8047, 1.0858, 0.9972],\n",
      "         [1.4770, 1.1469, 1.5153, 1.5603],\n",
      "         [1.5498, 1.2725, 1.7435, 1.4597],\n",
      "         [1.2241, 0.8324, 1.1981, 0.9861]]])\n",
      "\n",
      "\n",
      "Type : torch.FloatTensor\n",
      "Size : torch.Size([3, 4, 4])\n",
      "Value \n",
      "tensor([[[1.0318, 0.7520, 1.0767, 0.8234],\n",
      "         [1.5643, 1.2558, 1.5605, 1.4734],\n",
      "         [1.2160, 0.9819, 1.3293, 1.6723],\n",
      "         [1.0712, 0.7685, 1.1736, 1.0645]],\n",
      "\n",
      "        [[1.5640, 1.1027, 1.4118, 1.4099],\n",
      "         [1.4915, 0.9887, 1.1677, 1.4286],\n",
      "         [1.1852, 0.9961, 1.2337, 1.4705],\n",
      "         [1.4727, 1.2669, 1.5466, 1.5334]],\n",
      "\n",
      "        [[1.1113, 0.8047, 1.0858, 0.9972],\n",
      "         [1.4770, 1.1469, 1.5153, 1.5603],\n",
      "         [1.5498, 1.2725, 1.7435, 1.4597],\n",
      "         [1.2241, 0.8324, 1.1981, 0.9861]]])\n",
      "\n",
      "\n"
     ]
    }
   ],
   "source": [
    "## Practice\n",
    "\n",
    "# 1. 2D텐서를 만들고 차원 0 위치에 크기가 1인 차원을 추가하라\n",
    "\n",
    "a = torch.rand(3,3)\n",
    "describe(a)\n",
    "a = a.unsqueeze(0)\n",
    "describe(a)\n",
    "\n",
    "# 2. 이전 텐서에 추가한 차원을 삭제하라\n",
    "a = a.squeeze(0)\n",
    "describe(a)\n",
    "\n",
    "# 3. 범위가 [3,7) 이고 크기가 5x3인 랜덤한 텐서를 만들어라\n",
    "a = torch.rand(5,3) * (7-3)\n",
    "describe(a)\n",
    "\n",
    "# 4. 정규분포 (평균=0, 표준편차=1)를 사용해 텐서를 만드세요\n",
    "a = torch.randn(3,3)\n",
    "a\n",
    "\n",
    "# 5. 텐서 torch.Tensor([1, 1, 1, 0, 1])애서 0이 아닌 원소의 인덱스를 추출하라\n",
    "a = torch.Tensor([1, 1, 1, 0, 1])\n",
    "torch.nonzero(a)\n",
    "\n",
    "\n",
    "# 6. 크기가 (3,1)인 랜덤한 텐서를 만들고 네벌을 복사해서 쌓으세요\n",
    "a = torch.rand(3,1)\n",
    "a.expand(3,4)\n",
    "\n",
    "\n",
    "# 7. 2차원 행렬 두개 (a = torch.rand(3,4,5), b=torch.rand(3,5,4)의 배치 행렬 곱셈을 계산하세요)\n",
    "a = torch.rand(3,4,5)\n",
    "b = torch.rand(3,5,4)\n",
    "describe(torch.bmm(a,b))\n",
    "\n",
    "# 8. 3차원 행렬 (a = torch.rand(3,4,5))과 2차원 행렬 (b=torch.rand(5,4))의 배치행렬 곱셈을 계산하세요.\n",
    "a = torch.rand(3,4,5)\n",
    "b = torch.rand(5,4)\n",
    "describe(torch.matmul(a,b))\n",
    "describe(torch.bmm(a, b.unsqueeze(0).expand(a.size(0), *b.size())))\n",
    "# another answer\n"
   ]
  }
 ],
 "metadata": {
  "kernelspec": {
   "display_name": "NLP",
   "language": "python",
   "name": "python3"
  },
  "language_info": {
   "codemirror_mode": {
    "name": "ipython",
    "version": 3
   },
   "file_extension": ".py",
   "mimetype": "text/x-python",
   "name": "python",
   "nbconvert_exporter": "python",
   "pygments_lexer": "ipython3",
   "version": "3.8.18"
  },
  "orig_nbformat": 4
 },
 "nbformat": 4,
 "nbformat_minor": 2
}
